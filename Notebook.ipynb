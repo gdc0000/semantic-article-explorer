{
 "cells": [
  {
   "cell_type": "code",
   "execution_count": 1,
   "id": "7acb9a97",
   "metadata": {},
   "outputs": [
    {
     "name": "stdout",
     "output_type": "stream",
     "text": [
      "c:\\Users\\utente\\Desktop\\Projects\\semantic-article-explorer\\.venv\\Scripts\\python.exe\n"
     ]
    }
   ],
   "source": [
    "import sys\n",
    "print(sys.executable)"
   ]
  },
  {
   "cell_type": "code",
   "execution_count": 2,
   "id": "6aba6a1c",
   "metadata": {},
   "outputs": [
    {
     "name": "stdout",
     "output_type": "stream",
     "text": [
      "\n",
      "🔧 Running preprocessing/1_clean_data.py...\n",
      "\n",
      "\n",
      "2025-06-08 14:41:31,713 - INFO - Starting data cleaning process...\n",
      "2025-06-08 14:41:31,713 - INFO - Successfully loaded 99 records from data/raw_records.json\n",
      "2025-06-08 14:41:31,713 - INFO - Data cleaning complete. Valid records: 99, Invalid/skipped records: 0\n",
      "2025-06-08 14:41:31,727 - INFO - Processed data saved to data/processed_records.parquet\n",
      "2025-06-08 14:41:31,727 - INFO - Data cleaning process finished successfully.\n",
      "\n",
      "\n",
      "🔧 Running preprocessing/2_generate_embeddings.py...\n",
      "\n",
      "\n",
      "2025-06-08 14:41:35,321 - INFO - Starting embedding generation process...\n",
      "2025-06-08 14:41:35,343 - INFO - Successfully loaded 99 records from data/processed_records.parquet\n",
      "2025-06-08 14:41:35,343 - INFO - Using device: cpu\n",
      "2025-06-08 14:41:35,343 - INFO - Prepared 99 texts for embedding.\n",
      "2025-06-08 14:41:35,343 - INFO - Load pretrained SentenceTransformer: sentence-transformers/all-MiniLM-L6-v2\n",
      "2025-06-08 14:41:42,162 - INFO - SentenceTransformer model 'sentence-transformers/all-MiniLM-L6-v2' loaded on cpu.\n",
      "2025-06-08 14:41:42,162 - INFO - Generating embeddings for 99 texts (batch size: 32)...\n",
      "\n",
      "Batches:   0%|          | 0/4 [00:00<?, ?it/s]\n",
      "Batches:  50%|â–ˆâ–ˆâ–ˆâ–ˆâ–ˆ     | 2/4 [00:00<00:00, 13.19it/s]\n",
      "Batches: 100%|â–ˆâ–ˆâ–ˆâ–ˆâ–ˆâ–ˆâ–ˆâ–ˆâ–ˆâ–ˆ| 4/4 [00:00<00:00, 18.86it/s]\n",
      "2025-06-08 14:41:42,380 - INFO - Embeddings generated. Shape: (99, 384)\n",
      "2025-06-08 14:41:42,380 - INFO - Embeddings saved to data/embeddings.npy\n",
      "2025-06-08 14:41:42,380 - INFO - Embedding generation process finished successfully.\n",
      "\n",
      "\n",
      "🔧 Running preprocessing/3_build_index.py...\n",
      "\n",
      "\n",
      "2025-06-08 14:41:42,931 - INFO - Starting FAISS index building process...\n",
      "2025-06-08 14:41:42,931 - INFO - Embeddings loaded from data/embeddings.npy. Shape: (99, 384)\n",
      "2025-06-08 14:41:42,931 - INFO - FAISS index built with 99 vectors. Index type: IndexFlatL2\n",
      "2025-06-08 14:41:42,931 - INFO - FAISS index saved to data/faiss_index.faiss\n",
      "2025-06-08 14:41:42,931 - INFO - FAISS index building process finished successfully.\n",
      "\n"
     ]
    }
   ],
   "source": [
    "import subprocess\n",
    "import sys\n",
    "\n",
    "scripts = [\n",
    "    \"preprocessing/1_clean_data.py\",\n",
    "    \"preprocessing/2_generate_embeddings.py\",\n",
    "    \"preprocessing/3_build_index.py\",\n",
    "]\n",
    "\n",
    "python_executable = sys.executable  # prende il Python del venv attivo\n",
    "\n",
    "for script in scripts:\n",
    "    print(f\"\\n🔧 Running {script}...\\n\")\n",
    "    result = subprocess.run([python_executable, script], capture_output=True, text=True)\n",
    "    \n",
    "    print(result.stdout)\n",
    "    print(result.stderr)\n",
    "    \n",
    "    if result.returncode != 0:\n",
    "        print(f\"❌ Errore nello script {script}\")\n",
    "        break\n"
   ]
  },
  {
   "cell_type": "code",
   "execution_count": 3,
   "id": "022b1550",
   "metadata": {},
   "outputs": [
    {
     "name": "stdout",
     "output_type": "stream",
     "text": [
      "Records: (99, 7)\n",
      "  id                                           title  \\\n",
      "0  1                   introduction to deep learning   \n",
      "1  2   natural language processing with transformers   \n",
      "2  3                 generative adversarial networks   \n",
      "3  4  the architecture of modern computer processors   \n",
      "4  5               introduction to quantum computing   \n",
      "\n",
      "                                            abstract  year  \\\n",
      "0  a comprehensive overview of deep learning tech...  2018   \n",
      "1                  using transformers for nlp tasks.  2020   \n",
      "2    gans for image synthesis and data augmentation.  2019   \n",
      "3  an in-depth look at cpu design and functionality.  2021   \n",
      "4  exploring the principles and applications of q...  2022   \n",
      "\n",
      "                          journal    x    y  \n",
      "0                   Journal of AI  0.1  0.2  \n",
      "1     Transactions on ML Research  0.5  0.8  \n",
      "2         Neural Networks Journal  0.9  0.3  \n",
      "3                      IEEE Micro  0.2  0.4  \n",
      "4  Quantum Information Processing  0.7  0.6  \n",
      "\n",
      "Embeddings shape: (99, 384)\n",
      "\n",
      "FAISS index: 99\n"
     ]
    }
   ],
   "source": [
    "import pandas as pd\n",
    "import numpy as np\n",
    "\n",
    "df = pd.read_parquet(\"data/processed_records.parquet\")\n",
    "print(\"Records:\", df.shape)\n",
    "print(df.head())\n",
    "\n",
    "embeddings = np.load(\"data/embeddings.npy\")\n",
    "print(\"\\nEmbeddings shape:\", embeddings.shape)\n",
    "\n",
    "import faiss\n",
    "index = faiss.read_index(\"data/faiss_index.faiss\")\n",
    "print(\"\\nFAISS index:\", index.ntotal)\n"
   ]
  }
 ],
 "metadata": {
  "kernelspec": {
   "display_name": ".venv",
   "language": "python",
   "name": "python3"
  },
  "language_info": {
   "codemirror_mode": {
    "name": "ipython",
    "version": 3
   },
   "file_extension": ".py",
   "mimetype": "text/x-python",
   "name": "python",
   "nbconvert_exporter": "python",
   "pygments_lexer": "ipython3",
   "version": "3.10.11"
  }
 },
 "nbformat": 4,
 "nbformat_minor": 5
}
